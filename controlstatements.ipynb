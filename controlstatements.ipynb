{
  "nbformat": 4,
  "nbformat_minor": 0,
  "metadata": {
    "colab": {
      "name": "controlstatements.ipynb",
      "provenance": [],
      "collapsed_sections": [],
      "authorship_tag": "ABX9TyNjzjyVp229Qe+QBUv/0Gtx",
      "include_colab_link": true
    },
    "kernelspec": {
      "name": "python3",
      "display_name": "Python 3"
    },
    "language_info": {
      "name": "python"
    }
  },
  "cells": [
    {
      "cell_type": "markdown",
      "metadata": {
        "id": "view-in-github",
        "colab_type": "text"
      },
      "source": [
        "<a href=\"https://colab.research.google.com/github/eshithagedda/python-practice/blob/main/controlstatements.ipynb\" target=\"_parent\"><img src=\"https://colab.research.google.com/assets/colab-badge.svg\" alt=\"Open In Colab\"/></a>"
      ]
    },
    {
      "cell_type": "code",
      "execution_count": 7,
      "metadata": {
        "colab": {
          "base_uri": "https://localhost:8080/"
        },
        "id": "t0b0LdQbPPkO",
        "outputId": "6f3566dd-4d07-4b8b-94f2-71fd1a583472"
      },
      "outputs": [
        {
          "output_type": "stream",
          "name": "stdout",
          "text": [
            "enter your age3\n",
            "Grow up!\n"
          ]
        }
      ],
      "source": [
        "# find out if a person is egible for voting or not (dynamic)\n",
        "a=int(input('enter your age'))\n",
        "if (a>=18):\n",
        "          print('You are eligible!')\n",
        "else:\n",
        "    print('Grow up!')"
      ]
    },
    {
      "cell_type": "code",
      "source": [
        "# find out if a person is egible for voting or not (static)\n",
        "a=18\n",
        "if (a>=18):\n",
        "   print('eligible')\n",
        "else:\n",
        "     print('not elgible')"
      ],
      "metadata": {
        "colab": {
          "base_uri": "https://localhost:8080/"
        },
        "id": "i90K9eB6RQuJ",
        "outputId": "8d3c49a7-fb18-49ef-dd49-5802c0d76c6e"
      },
      "execution_count": 10,
      "outputs": [
        {
          "output_type": "stream",
          "name": "stdout",
          "text": [
            "eligible\n"
          ]
        }
      ]
    },
    {
      "cell_type": "code",
      "source": [
        "# find out the maximum of 3 numbers \n",
        "a=int(input('enter your first number'))\n",
        "b=int(input('enter your second number'))\n",
        "c=int(input('enter your third number'))\n",
        "if a>b and a>c:\n",
        "             print(a)\n",
        "elif b>c and b>a:\n",
        " print(b)\n",
        "else:\n",
        "   print(c)\n"
      ],
      "metadata": {
        "colab": {
          "base_uri": "https://localhost:8080/"
        },
        "id": "HjMqJ-yqR5Oh",
        "outputId": "9c2bdfcc-be49-4b8b-dafb-2f316cf67cea"
      },
      "execution_count": 16,
      "outputs": [
        {
          "output_type": "stream",
          "name": "stdout",
          "text": [
            "enter your first number8\n",
            "enter your second number9\n",
            "enter your third number7\n",
            "9\n"
          ]
        }
      ]
    },
    {
      "cell_type": "code",
      "source": [
        "# find out the maximum of 5 subjects\n",
        "a=int(input('enter the marks of your first subject'))\n",
        "b=int(input('enter the marks of your second subject'))\n",
        "c=int(input('enter the marks of your third subject'))\n",
        "d=int(input('enter the marks of your fourth subject'))\n",
        "e=int(input('enter the marks of your fifth subject'))\n",
        "if a>b and a>c and a>d and a>e:\n",
        "  print(a)\n",
        "elif b>a and b>c and b>s and b>e:\n",
        "    print(b)\n",
        "elif c>a and c>b and c>d and c>e:\n",
        "      print(c)\n",
        "elif d>a and d>b and d>c and d>e:\n",
        "  print(d)\n",
        "else:\n",
        "    print(e)\n",
        "    "
      ],
      "metadata": {
        "colab": {
          "base_uri": "https://localhost:8080/"
        },
        "id": "zap1LzeuUDaI",
        "outputId": "ba80fb44-098f-4283-e82d-f63675349502"
      },
      "execution_count": 19,
      "outputs": [
        {
          "output_type": "stream",
          "name": "stdout",
          "text": [
            "enter the marks of your first subject78\n",
            "enter the marks of your second subject67\n",
            "enter the marks of your third subject90\n",
            "enter the marks of your fourth subject54\n",
            "enter the marks of your fifth subject89\n",
            "90\n"
          ]
        }
      ]
    },
    {
      "cell_type": "code",
      "source": [
        "# Check whether the triangle is equilateral, isosceles, or scalene triangle\n",
        " \n",
        "a=int(input('enter 1st side'))\n",
        "b=int(input('enter 2nd side'))\n",
        "c=int(input('enter 3rd side'))\n",
        "if a==b==c:\n",
        "  print('it is an equilateral triangle')\n",
        "elif a==b and a!=c:\n",
        "  print('it is an isosclese triangle')\n",
        "elif a!=b and a!=c and b!=a:\n",
        "  print('it is a scalene triangle')\n"
      ],
      "metadata": {
        "colab": {
          "base_uri": "https://localhost:8080/"
        },
        "id": "HT761Vn0WN3w",
        "outputId": "ac5306c1-9bd4-4cd4-ad65-df380208042b"
      },
      "execution_count": 21,
      "outputs": [
        {
          "output_type": "stream",
          "name": "stdout",
          "text": [
            "enter 1st side4\n",
            "enter 2nd side5\n",
            "enter 3rd side6\n",
            "it is a scalene triangle\n"
          ]
        }
      ]
    },
    {
      "cell_type": "code",
      "source": [
        "# Check whether entered year is a leap year or not\n",
        "a=int(input('enter year '))\n",
        "if (a%100==0 and a%4==0):\n",
        "        print('its a leap year')\n",
        "elif (a%4==0):\n",
        "     print('it is a leap year')\n",
        "else:\n",
        "     print('its not a leap year')"
      ],
      "metadata": {
        "colab": {
          "base_uri": "https://localhost:8080/"
        },
        "id": "zGTN00j9X8yf",
        "outputId": "cfd1d267-dae7-4dd6-f81b-98cf518d43e0"
      },
      "execution_count": 29,
      "outputs": [
        {
          "output_type": "stream",
          "name": "stdout",
          "text": [
            "enter year 2020\n",
            "it is a leap year\n"
          ]
        }
      ]
    },
    {
      "cell_type": "code",
      "source": [
        "# Find minimum among three numbers\n",
        "a=int(input('enter your 1st number'))\n",
        "b=int(input('enter your 2nd number'))\n",
        "c=int(input('enter your third number'))\n",
        "if a<b and a<c:\n",
        "  print(a)\n",
        "elif b<a and b<c:\n",
        "    print(b)\n",
        "else:\n",
        "  print(c)"
      ],
      "metadata": {
        "colab": {
          "base_uri": "https://localhost:8080/"
        },
        "id": "3EKPoLV7aK5e",
        "outputId": "85c3ff7b-7ea6-4ebe-8c50-2a3467a003f1"
      },
      "execution_count": 30,
      "outputs": [
        {
          "output_type": "stream",
          "name": "stdout",
          "text": [
            "enter your 1st number1\n",
            "enter your 2nd number2\n",
            "enter your third number3\n",
            "1\n"
          ]
        }
      ]
    },
    {
      "cell_type": "code",
      "source": [
        "# Check whether a number is divisible by 5 and 11 or not\n",
        "a=int(input('enter a number '))\n",
        "if (a%5==0 and a%11==0):\n",
        "  print ('is divisble by 5 and 11.')\n",
        "else:\n",
        "   print('is not divisble by 5 and 11.')"
      ],
      "metadata": {
        "colab": {
          "base_uri": "https://localhost:8080/"
        },
        "id": "xN0QSgzya3Wm",
        "outputId": "c915c755-6f0b-4725-cdd2-bc44542d776b"
      },
      "execution_count": 40,
      "outputs": [
        {
          "output_type": "stream",
          "name": "stdout",
          "text": [
            "enter a number120\n",
            "is not divisble by 5 and 11.\n"
          ]
        }
      ]
    },
    {
      "cell_type": "code",
      "source": [
        "# Check whether a number is positive, negative or zero\n",
        "a=int(input('enter a number '))\n",
        "if a>0:\n",
        "      print('it is a positive number.')\n",
        "elif a<0:\n",
        "        print('it is a negaive number.')\n",
        "elif a==0:\n",
        "        print('it is equal to zero.')"
      ],
      "metadata": {
        "colab": {
          "base_uri": "https://localhost:8080/"
        },
        "id": "VmDp-p50ca5d",
        "outputId": "63247aa9-4756-430b-ab12-02351e02b2c7"
      },
      "execution_count": 54,
      "outputs": [
        {
          "output_type": "stream",
          "name": "stdout",
          "text": [
            "enter a number 0\n",
            "it is equal to zero.\n"
          ]
        }
      ]
    },
    {
      "cell_type": "code",
      "source": [
        ""
      ],
      "metadata": {
        "id": "e8bEEu9wehhc"
      },
      "execution_count": null,
      "outputs": []
    },
    {
      "cell_type": "code",
      "source": [
        ""
      ],
      "metadata": {
        "id": "Ub5hnpX5eeTd"
      },
      "execution_count": null,
      "outputs": []
    }
  ]
}